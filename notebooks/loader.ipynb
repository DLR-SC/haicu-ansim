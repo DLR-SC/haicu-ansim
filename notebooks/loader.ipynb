{
 "cells": [
  {
   "cell_type": "code",
   "execution_count": 2,
   "metadata": {},
   "outputs": [],
   "source": [
    "import pandas as pd\n",
    "import numpy as np\n",
    "import glob\n",
    "import matplotlib.pyplot as plt\n",
    "\n",
    "from pathlib import Path\n",
    "import pathlib\n",
    "import shutil\n",
    "\n",
    "from matplotlib import pyplot as plt\n",
    "from IPython.display import clear_output\n",
    "import numpy as np\n",
    "\n",
    "import re\n",
    "import os\n",
    "\n",
    "import sys\n",
    "sys.path.insert(0, os.path.abspath('../'))\n",
    "import ansim.loader\n",
    "import ansim.properties\n"
   ]
  },
  {
   "cell_type": "markdown",
   "metadata": {},
   "source": [
    "### NOTE. Before running this notebook please make sure that the data paths are set correctly in the ansim/properties.py file\n",
    "\n",
    "### This notebook  goal is to load the ansim data and to get general insights about the data, or specific insight about a run. It is also to do the initial clean up (removing files less than 100 MB)"
   ]
  },
  {
   "cell_type": "markdown",
   "metadata": {},
   "source": [
    "## Removing the files less than 100 MB"
   ]
  },
  {
   "cell_type": "code",
   "execution_count": 13,
   "metadata": {},
   "outputs": [
    {
     "name": "stdout",
     "output_type": "stream",
     "text": [
      "Current number of runs is:  73\n",
      "Number of runs after removing small files is:  73\n"
     ]
    }
   ],
   "source": [
    "ansim.loader.clean_runs()"
   ]
  },
  {
   "cell_type": "markdown",
   "metadata": {},
   "source": [
    "## Fetching channels description"
   ]
  },
  {
   "cell_type": "markdown",
   "metadata": {},
   "source": [
    "##### Channel IDs do not matter. The mapping of the data is based on Signal and Description"
   ]
  },
  {
   "cell_type": "code",
   "execution_count": 14,
   "metadata": {},
   "outputs": [
    {
     "name": "stdout",
     "output_type": "stream",
     "text": [
      "NOTE: Channel IDs do not matter. What is important here is Signal and Description.\n"
     ]
    },
    {
     "data": {
      "text/html": [
       "<div>\n",
       "<style scoped>\n",
       "    .dataframe tbody tr th:only-of-type {\n",
       "        vertical-align: middle;\n",
       "    }\n",
       "\n",
       "    .dataframe tbody tr th {\n",
       "        vertical-align: top;\n",
       "    }\n",
       "\n",
       "    .dataframe thead th {\n",
       "        text-align: right;\n",
       "    }\n",
       "</style>\n",
       "<table border=\"1\" class=\"dataframe\">\n",
       "  <thead>\n",
       "    <tr style=\"text-align: right;\">\n",
       "      <th></th>\n",
       "      <th>Channel</th>\n",
       "      <th>Signal</th>\n",
       "      <th>Description</th>\n",
       "      <th>Device</th>\n",
       "      <th>Device-Info</th>\n",
       "    </tr>\n",
       "    <tr>\n",
       "      <th>id</th>\n",
       "      <th></th>\n",
       "      <th></th>\n",
       "      <th></th>\n",
       "      <th></th>\n",
       "      <th></th>\n",
       "    </tr>\n",
       "  </thead>\n",
       "  <tbody>\n",
       "    <tr>\n",
       "      <th>CH01</th>\n",
       "      <td>Channel_01</td>\n",
       "      <td>ECG - ECG A, X, ECG2-R</td>\n",
       "      <td>electrocardiogram_signal</td>\n",
       "      <td>BIOPAC_BIONOMADIX ECG-Transmitter</td>\n",
       "      <td>https://www.biopac.com/product/bionomadix-2ch-...</td>\n",
       "    </tr>\n",
       "    <tr>\n",
       "      <th>CH02</th>\n",
       "      <td>Channel_02</td>\n",
       "      <td>NIBP - NIBP100A</td>\n",
       "      <td>noininvasible_blood_pressure</td>\n",
       "      <td>BIOPAC NIBP100A (Vasotrac)</td>\n",
       "      <td>https://www.biopac.com/manual/nibp100a-vasotra...</td>\n",
       "    </tr>\n",
       "    <tr>\n",
       "      <th>CH03</th>\n",
       "      <td>Channel_03</td>\n",
       "      <td>Zth - Z, X, NICO-R</td>\n",
       "      <td>base_thoracic_impedance_cardiac_output</td>\n",
       "      <td>BIOPAC BIONOMADIX NICO-Transmitter</td>\n",
       "      <td>https://www.biopac.com/product/bionomadix-wire...</td>\n",
       "    </tr>\n",
       "    <tr>\n",
       "      <th>CH04</th>\n",
       "      <td>Channel_04</td>\n",
       "      <td>ERGO_RPM</td>\n",
       "      <td>ergometer_rounds_per_minute</td>\n",
       "      <td>Lode ergometer</td>\n",
       "      <td>https://lode.nl/en/categories/bicycle-ergometer/3</td>\n",
       "    </tr>\n",
       "    <tr>\n",
       "      <th>CH05</th>\n",
       "      <td>Channel_05</td>\n",
       "      <td>ERGO_PWR</td>\n",
       "      <td>ergometer_watt_load</td>\n",
       "      <td>Lode ergometer</td>\n",
       "      <td>NaN</td>\n",
       "    </tr>\n",
       "    <tr>\n",
       "      <th>CH06</th>\n",
       "      <td>Channel_06</td>\n",
       "      <td>ZTH-dZ/dt, X, NICO-R</td>\n",
       "      <td>cardiac_output_impedance_change</td>\n",
       "      <td>BIOPAC BIONOMADIX NICO-Transmitter</td>\n",
       "      <td>https://www.biopac.com/product/bionomadix-wire...</td>\n",
       "    </tr>\n",
       "    <tr>\n",
       "      <th>CH07</th>\n",
       "      <td>Channel_07</td>\n",
       "      <td>SLDE_POS</td>\n",
       "      <td>sledge_position</td>\n",
       "      <td>NaN</td>\n",
       "      <td>NaN</td>\n",
       "    </tr>\n",
       "    <tr>\n",
       "      <th>CH08</th>\n",
       "      <td>Channel_08</td>\n",
       "      <td>Gx</td>\n",
       "      <td>G-force_x_axis</td>\n",
       "      <td>External G-Sensor</td>\n",
       "      <td>NaN</td>\n",
       "    </tr>\n",
       "    <tr>\n",
       "      <th>CH09</th>\n",
       "      <td>Channel_09</td>\n",
       "      <td>Gy</td>\n",
       "      <td>G-force_y_axis</td>\n",
       "      <td>External G-Sensor</td>\n",
       "      <td>NaN</td>\n",
       "    </tr>\n",
       "    <tr>\n",
       "      <th>CH10</th>\n",
       "      <td>Channel_10</td>\n",
       "      <td>Gz-Level</td>\n",
       "      <td>G-force_z_axis</td>\n",
       "      <td>External G-Sensor</td>\n",
       "      <td>NaN</td>\n",
       "    </tr>\n",
       "    <tr>\n",
       "      <th>CH11</th>\n",
       "      <td>Channel_11</td>\n",
       "      <td>Analog input</td>\n",
       "      <td>signal_analog_input</td>\n",
       "      <td>NaN</td>\n",
       "      <td>NaN</td>\n",
       "    </tr>\n",
       "    <tr>\n",
       "      <th>CH12</th>\n",
       "      <td>Channel_12</td>\n",
       "      <td>CLK_E</td>\n",
       "      <td>signal_clk_e</td>\n",
       "      <td>NaN</td>\n",
       "      <td>NaN</td>\n",
       "    </tr>\n",
       "    <tr>\n",
       "      <th>CH13</th>\n",
       "      <td>Channel_13</td>\n",
       "      <td>SYS</td>\n",
       "      <td>blood_pressure_systolic_value</td>\n",
       "      <td>Finapres Medical Systems</td>\n",
       "      <td>http://www.finapres.com/Products/Finometer-MIDI</td>\n",
       "    </tr>\n",
       "    <tr>\n",
       "      <th>CH14</th>\n",
       "      <td>Channel_14</td>\n",
       "      <td>MEA</td>\n",
       "      <td>mean_arterial_pressure</td>\n",
       "      <td>Finapres Medical Systems</td>\n",
       "      <td>NaN</td>\n",
       "    </tr>\n",
       "    <tr>\n",
       "      <th>CH15</th>\n",
       "      <td>Channel_15</td>\n",
       "      <td>DIA</td>\n",
       "      <td>blood_pressure_diastolic_value</td>\n",
       "      <td>Finapres Medical Systems</td>\n",
       "      <td>NaN</td>\n",
       "    </tr>\n",
       "    <tr>\n",
       "      <th>CH16</th>\n",
       "      <td>Channel_16</td>\n",
       "      <td>HR</td>\n",
       "      <td>puls_rate_derived_from_pulse_interval</td>\n",
       "      <td>Finapres Medical Systems napres Medical Systems</td>\n",
       "      <td>NaN</td>\n",
       "    </tr>\n",
       "    <tr>\n",
       "      <th>CH16</th>\n",
       "      <td>Channel_16</td>\n",
       "      <td>HR</td>\n",
       "      <td>puls_rate_derived_from_pulse_interval</td>\n",
       "      <td>Finapres Medical Systems ems</td>\n",
       "      <td>NaN</td>\n",
       "    </tr>\n",
       "  </tbody>\n",
       "</table>\n",
       "</div>"
      ],
      "text/plain": [
       "         Channel                  Signal  \\\n",
       "id                                         \n",
       "CH01  Channel_01  ECG - ECG A, X, ECG2-R   \n",
       "CH02  Channel_02         NIBP - NIBP100A   \n",
       "CH03  Channel_03      Zth - Z, X, NICO-R   \n",
       "CH04  Channel_04                ERGO_RPM   \n",
       "CH05  Channel_05                ERGO_PWR   \n",
       "CH06  Channel_06    ZTH-dZ/dt, X, NICO-R   \n",
       "CH07  Channel_07                SLDE_POS   \n",
       "CH08  Channel_08                      Gx   \n",
       "CH09  Channel_09                      Gy   \n",
       "CH10  Channel_10                Gz-Level   \n",
       "CH11  Channel_11            Analog input   \n",
       "CH12  Channel_12                   CLK_E   \n",
       "CH13  Channel_13                     SYS   \n",
       "CH14  Channel_14                     MEA   \n",
       "CH15  Channel_15                     DIA   \n",
       "CH16  Channel_16                      HR   \n",
       "CH16  Channel_16                      HR   \n",
       "\n",
       "                                 Description  \\\n",
       "id                                             \n",
       "CH01                electrocardiogram_signal   \n",
       "CH02            noininvasible_blood_pressure   \n",
       "CH03  base_thoracic_impedance_cardiac_output   \n",
       "CH04             ergometer_rounds_per_minute   \n",
       "CH05                     ergometer_watt_load   \n",
       "CH06         cardiac_output_impedance_change   \n",
       "CH07                         sledge_position   \n",
       "CH08                          G-force_x_axis   \n",
       "CH09                          G-force_y_axis   \n",
       "CH10                          G-force_z_axis   \n",
       "CH11                     signal_analog_input   \n",
       "CH12                            signal_clk_e   \n",
       "CH13           blood_pressure_systolic_value   \n",
       "CH14                  mean_arterial_pressure   \n",
       "CH15          blood_pressure_diastolic_value   \n",
       "CH16   puls_rate_derived_from_pulse_interval   \n",
       "CH16   puls_rate_derived_from_pulse_interval   \n",
       "\n",
       "                                               Device  \\\n",
       "id                                                      \n",
       "CH01                BIOPAC_BIONOMADIX ECG-Transmitter   \n",
       "CH02                      BIOPAC NIBP100A (Vasotrac)    \n",
       "CH03               BIOPAC BIONOMADIX NICO-Transmitter   \n",
       "CH04                                   Lode ergometer   \n",
       "CH05                                   Lode ergometer   \n",
       "CH06               BIOPAC BIONOMADIX NICO-Transmitter   \n",
       "CH07                                              NaN   \n",
       "CH08                                External G-Sensor   \n",
       "CH09                                External G-Sensor   \n",
       "CH10                                External G-Sensor   \n",
       "CH11                                              NaN   \n",
       "CH12                                              NaN   \n",
       "CH13                         Finapres Medical Systems   \n",
       "CH14                         Finapres Medical Systems   \n",
       "CH15                         Finapres Medical Systems   \n",
       "CH16  Finapres Medical Systems napres Medical Systems   \n",
       "CH16                     Finapres Medical Systems ems   \n",
       "\n",
       "                                            Device-Info  \n",
       "id                                                       \n",
       "CH01  https://www.biopac.com/product/bionomadix-2ch-...  \n",
       "CH02  https://www.biopac.com/manual/nibp100a-vasotra...  \n",
       "CH03  https://www.biopac.com/product/bionomadix-wire...  \n",
       "CH04  https://lode.nl/en/categories/bicycle-ergometer/3  \n",
       "CH05                                                NaN  \n",
       "CH06  https://www.biopac.com/product/bionomadix-wire...  \n",
       "CH07                                                NaN  \n",
       "CH08                                                NaN  \n",
       "CH09                                                NaN  \n",
       "CH10                                                NaN  \n",
       "CH11                                                NaN  \n",
       "CH12                                                NaN  \n",
       "CH13    http://www.finapres.com/Products/Finometer-MIDI  \n",
       "CH14                                                NaN  \n",
       "CH15                                                NaN  \n",
       "CH16                                                NaN  \n",
       "CH16                                                NaN  "
      ]
     },
     "execution_count": 14,
     "metadata": {},
     "output_type": "execute_result"
    }
   ],
   "source": [
    "desc_df = ansim.loader.get_description_file()\n",
    "desc_df"
   ]
  },
  {
   "cell_type": "markdown",
   "metadata": {},
   "source": [
    "## Fetching the runs overview\n",
    "subject, run, signal source, etc."
   ]
  },
  {
   "cell_type": "code",
   "execution_count": 15,
   "metadata": {},
   "outputs": [
    {
     "name": "stdout",
     "output_type": "stream",
     "text": [
      "The runs overview dataframe was saved as csv in ../out/runs_overview.csv\n"
     ]
    }
   ],
   "source": [
    "\n",
    "runs_overview_df = ansim.loader.get_runs_overview(save=True)"
   ]
  },
  {
   "cell_type": "code",
   "execution_count": 16,
   "metadata": {},
   "outputs": [
    {
     "name": "stdout",
     "output_type": "stream",
     "text": [
      "overall stats:\n",
      "# of files:  73\n",
      "# of unique subjects:  18\n",
      "# of unique runs:  2\n",
      "# of unique signal source:  2\n",
      "# of unique scsp:  2\n"
     ]
    }
   ],
   "source": [
    "ansim.loader.print_runs_overview(runs_overview_df)"
   ]
  },
  {
   "cell_type": "code",
   "execution_count": 17,
   "metadata": {
    "scrolled": true
   },
   "outputs": [
    {
     "name": "stdout",
     "output_type": "stream",
     "text": [
      "subject runs count:\n"
     ]
    },
    {
     "data": {
      "text/plain": [
       "0AA    5\n",
       "0AB    4\n",
       "0AU    4\n",
       "0AW    4\n",
       "0AL    4\n",
       "0AM    4\n",
       "0AD    4\n",
       "0AF    4\n",
       "0AP    4\n",
       "0AS    4\n",
       "0AR    4\n",
       "0AQ    4\n",
       "0AH    4\n",
       "0AC    4\n",
       "0AK    4\n",
       "0AG    4\n",
       "0AJ    4\n",
       "0AN    4\n",
       "Name: subject, dtype: int64"
      ]
     },
     "execution_count": 17,
     "metadata": {},
     "output_type": "execute_result"
    }
   ],
   "source": [
    "print('subject runs count:')\n",
    "runs_overview_df.subject.value_counts()"
   ]
  },
  {
   "cell_type": "code",
   "execution_count": 18,
   "metadata": {
    "scrolled": true
   },
   "outputs": [
    {
     "name": "stdout",
     "output_type": "stream",
     "text": [
      "Subject vs run type counts:\n"
     ]
    },
    {
     "data": {
      "text/html": [
       "<div>\n",
       "<style scoped>\n",
       "    .dataframe tbody tr th:only-of-type {\n",
       "        vertical-align: middle;\n",
       "    }\n",
       "\n",
       "    .dataframe tbody tr th {\n",
       "        vertical-align: top;\n",
       "    }\n",
       "\n",
       "    .dataframe thead th {\n",
       "        text-align: right;\n",
       "    }\n",
       "</style>\n",
       "<table border=\"1\" class=\"dataframe\">\n",
       "  <thead>\n",
       "    <tr style=\"text-align: right;\">\n",
       "      <th>run</th>\n",
       "      <th>001</th>\n",
       "      <th>002</th>\n",
       "    </tr>\n",
       "    <tr>\n",
       "      <th>subject</th>\n",
       "      <th></th>\n",
       "      <th></th>\n",
       "    </tr>\n",
       "  </thead>\n",
       "  <tbody>\n",
       "    <tr>\n",
       "      <th>0AA</th>\n",
       "      <td>3</td>\n",
       "      <td>2</td>\n",
       "    </tr>\n",
       "    <tr>\n",
       "      <th>0AB</th>\n",
       "      <td>2</td>\n",
       "      <td>2</td>\n",
       "    </tr>\n",
       "    <tr>\n",
       "      <th>0AC</th>\n",
       "      <td>2</td>\n",
       "      <td>2</td>\n",
       "    </tr>\n",
       "    <tr>\n",
       "      <th>0AD</th>\n",
       "      <td>2</td>\n",
       "      <td>2</td>\n",
       "    </tr>\n",
       "    <tr>\n",
       "      <th>0AF</th>\n",
       "      <td>2</td>\n",
       "      <td>2</td>\n",
       "    </tr>\n",
       "    <tr>\n",
       "      <th>0AG</th>\n",
       "      <td>2</td>\n",
       "      <td>2</td>\n",
       "    </tr>\n",
       "    <tr>\n",
       "      <th>0AH</th>\n",
       "      <td>2</td>\n",
       "      <td>2</td>\n",
       "    </tr>\n",
       "    <tr>\n",
       "      <th>0AJ</th>\n",
       "      <td>2</td>\n",
       "      <td>2</td>\n",
       "    </tr>\n",
       "    <tr>\n",
       "      <th>0AK</th>\n",
       "      <td>2</td>\n",
       "      <td>2</td>\n",
       "    </tr>\n",
       "    <tr>\n",
       "      <th>0AL</th>\n",
       "      <td>2</td>\n",
       "      <td>2</td>\n",
       "    </tr>\n",
       "    <tr>\n",
       "      <th>0AM</th>\n",
       "      <td>2</td>\n",
       "      <td>2</td>\n",
       "    </tr>\n",
       "    <tr>\n",
       "      <th>0AN</th>\n",
       "      <td>2</td>\n",
       "      <td>2</td>\n",
       "    </tr>\n",
       "    <tr>\n",
       "      <th>0AP</th>\n",
       "      <td>2</td>\n",
       "      <td>2</td>\n",
       "    </tr>\n",
       "    <tr>\n",
       "      <th>0AQ</th>\n",
       "      <td>2</td>\n",
       "      <td>2</td>\n",
       "    </tr>\n",
       "    <tr>\n",
       "      <th>0AR</th>\n",
       "      <td>2</td>\n",
       "      <td>2</td>\n",
       "    </tr>\n",
       "    <tr>\n",
       "      <th>0AS</th>\n",
       "      <td>2</td>\n",
       "      <td>2</td>\n",
       "    </tr>\n",
       "    <tr>\n",
       "      <th>0AU</th>\n",
       "      <td>2</td>\n",
       "      <td>2</td>\n",
       "    </tr>\n",
       "    <tr>\n",
       "      <th>0AW</th>\n",
       "      <td>2</td>\n",
       "      <td>2</td>\n",
       "    </tr>\n",
       "  </tbody>\n",
       "</table>\n",
       "</div>"
      ],
      "text/plain": [
       "run      001  002\n",
       "subject          \n",
       "0AA        3    2\n",
       "0AB        2    2\n",
       "0AC        2    2\n",
       "0AD        2    2\n",
       "0AF        2    2\n",
       "0AG        2    2\n",
       "0AH        2    2\n",
       "0AJ        2    2\n",
       "0AK        2    2\n",
       "0AL        2    2\n",
       "0AM        2    2\n",
       "0AN        2    2\n",
       "0AP        2    2\n",
       "0AQ        2    2\n",
       "0AR        2    2\n",
       "0AS        2    2\n",
       "0AU        2    2\n",
       "0AW        2    2"
      ]
     },
     "execution_count": 18,
     "metadata": {},
     "output_type": "execute_result"
    }
   ],
   "source": [
    "print('Subject vs run type counts:')\n",
    "\n",
    "runs_per_subjects = pd.crosstab(runs_overview_df['subject'], runs_overview_df['run']) \n",
    "runs_per_subjects\n",
    "# each subject has 2 001 runs and 2 002 runs. Except subject 0AA, had 3 001 runs"
   ]
  },
  {
   "cell_type": "code",
   "execution_count": 21,
   "metadata": {
    "scrolled": true
   },
   "outputs": [
    {
     "name": "stdout",
     "output_type": "stream",
     "text": [
      "run vs source type counts:\n"
     ]
    },
    {
     "data": {
      "text/html": [
       "<div>\n",
       "<style scoped>\n",
       "    .dataframe tbody tr th:only-of-type {\n",
       "        vertical-align: middle;\n",
       "    }\n",
       "\n",
       "    .dataframe tbody tr th {\n",
       "        vertical-align: top;\n",
       "    }\n",
       "\n",
       "    .dataframe thead th {\n",
       "        text-align: right;\n",
       "    }\n",
       "</style>\n",
       "<table border=\"1\" class=\"dataframe\">\n",
       "  <thead>\n",
       "    <tr style=\"text-align: right;\">\n",
       "      <th>signal_source</th>\n",
       "      <th>BIO1E</th>\n",
       "      <th>FIN1E</th>\n",
       "    </tr>\n",
       "    <tr>\n",
       "      <th>run</th>\n",
       "      <th></th>\n",
       "      <th></th>\n",
       "    </tr>\n",
       "  </thead>\n",
       "  <tbody>\n",
       "    <tr>\n",
       "      <th>001</th>\n",
       "      <td>34</td>\n",
       "      <td>3</td>\n",
       "    </tr>\n",
       "    <tr>\n",
       "      <th>002</th>\n",
       "      <td>36</td>\n",
       "      <td>0</td>\n",
       "    </tr>\n",
       "  </tbody>\n",
       "</table>\n",
       "</div>"
      ],
      "text/plain": [
       "signal_source  BIO1E  FIN1E\n",
       "run                        \n",
       "001               34      3\n",
       "002               36      0"
      ]
     },
     "execution_count": 21,
     "metadata": {},
     "output_type": "execute_result"
    }
   ],
   "source": [
    "print('run vs source type counts:')\n",
    "\n",
    "source_per_subjects = pd.crosstab(runs_overview_df['run'], runs_overview_df['signal_source']) # each subject has 2 001 runs and 2 002 runs\n",
    "source_per_subjects\n",
    "\n",
    "# Only one subject used F1n1E"
   ]
  },
  {
   "cell_type": "code",
   "execution_count": 22,
   "metadata": {
    "scrolled": true
   },
   "outputs": [
    {
     "name": "stdout",
     "output_type": "stream",
     "text": [
      "Subject vs source type counts:\n"
     ]
    },
    {
     "data": {
      "text/html": [
       "<div>\n",
       "<style scoped>\n",
       "    .dataframe tbody tr th:only-of-type {\n",
       "        vertical-align: middle;\n",
       "    }\n",
       "\n",
       "    .dataframe tbody tr th {\n",
       "        vertical-align: top;\n",
       "    }\n",
       "\n",
       "    .dataframe thead th {\n",
       "        text-align: right;\n",
       "    }\n",
       "</style>\n",
       "<table border=\"1\" class=\"dataframe\">\n",
       "  <thead>\n",
       "    <tr style=\"text-align: right;\">\n",
       "      <th>signal_source</th>\n",
       "      <th>BIO1E</th>\n",
       "      <th>FIN1E</th>\n",
       "    </tr>\n",
       "    <tr>\n",
       "      <th>subject</th>\n",
       "      <th></th>\n",
       "      <th></th>\n",
       "    </tr>\n",
       "  </thead>\n",
       "  <tbody>\n",
       "    <tr>\n",
       "      <th>0AA</th>\n",
       "      <td>2</td>\n",
       "      <td>3</td>\n",
       "    </tr>\n",
       "    <tr>\n",
       "      <th>0AB</th>\n",
       "      <td>4</td>\n",
       "      <td>0</td>\n",
       "    </tr>\n",
       "    <tr>\n",
       "      <th>0AC</th>\n",
       "      <td>4</td>\n",
       "      <td>0</td>\n",
       "    </tr>\n",
       "    <tr>\n",
       "      <th>0AD</th>\n",
       "      <td>4</td>\n",
       "      <td>0</td>\n",
       "    </tr>\n",
       "    <tr>\n",
       "      <th>0AF</th>\n",
       "      <td>4</td>\n",
       "      <td>0</td>\n",
       "    </tr>\n",
       "    <tr>\n",
       "      <th>0AG</th>\n",
       "      <td>4</td>\n",
       "      <td>0</td>\n",
       "    </tr>\n",
       "    <tr>\n",
       "      <th>0AH</th>\n",
       "      <td>4</td>\n",
       "      <td>0</td>\n",
       "    </tr>\n",
       "    <tr>\n",
       "      <th>0AJ</th>\n",
       "      <td>4</td>\n",
       "      <td>0</td>\n",
       "    </tr>\n",
       "    <tr>\n",
       "      <th>0AK</th>\n",
       "      <td>4</td>\n",
       "      <td>0</td>\n",
       "    </tr>\n",
       "    <tr>\n",
       "      <th>0AL</th>\n",
       "      <td>4</td>\n",
       "      <td>0</td>\n",
       "    </tr>\n",
       "    <tr>\n",
       "      <th>0AM</th>\n",
       "      <td>4</td>\n",
       "      <td>0</td>\n",
       "    </tr>\n",
       "    <tr>\n",
       "      <th>0AN</th>\n",
       "      <td>4</td>\n",
       "      <td>0</td>\n",
       "    </tr>\n",
       "    <tr>\n",
       "      <th>0AP</th>\n",
       "      <td>4</td>\n",
       "      <td>0</td>\n",
       "    </tr>\n",
       "    <tr>\n",
       "      <th>0AQ</th>\n",
       "      <td>4</td>\n",
       "      <td>0</td>\n",
       "    </tr>\n",
       "    <tr>\n",
       "      <th>0AR</th>\n",
       "      <td>4</td>\n",
       "      <td>0</td>\n",
       "    </tr>\n",
       "    <tr>\n",
       "      <th>0AS</th>\n",
       "      <td>4</td>\n",
       "      <td>0</td>\n",
       "    </tr>\n",
       "    <tr>\n",
       "      <th>0AU</th>\n",
       "      <td>4</td>\n",
       "      <td>0</td>\n",
       "    </tr>\n",
       "    <tr>\n",
       "      <th>0AW</th>\n",
       "      <td>4</td>\n",
       "      <td>0</td>\n",
       "    </tr>\n",
       "  </tbody>\n",
       "</table>\n",
       "</div>"
      ],
      "text/plain": [
       "signal_source  BIO1E  FIN1E\n",
       "subject                    \n",
       "0AA                2      3\n",
       "0AB                4      0\n",
       "0AC                4      0\n",
       "0AD                4      0\n",
       "0AF                4      0\n",
       "0AG                4      0\n",
       "0AH                4      0\n",
       "0AJ                4      0\n",
       "0AK                4      0\n",
       "0AL                4      0\n",
       "0AM                4      0\n",
       "0AN                4      0\n",
       "0AP                4      0\n",
       "0AQ                4      0\n",
       "0AR                4      0\n",
       "0AS                4      0\n",
       "0AU                4      0\n",
       "0AW                4      0"
      ]
     },
     "execution_count": 22,
     "metadata": {},
     "output_type": "execute_result"
    }
   ],
   "source": [
    "print('Subject vs source type counts:')\n",
    "\n",
    "source_per_subjects = pd.crosstab(runs_overview_df['subject'], runs_overview_df['signal_source']) # each subject has 2 001 runs and 2 002 runs\n",
    "source_per_subjects"
   ]
  },
  {
   "cell_type": "markdown",
   "metadata": {},
   "source": [
    "## Plot RUN"
   ]
  },
  {
   "cell_type": "code",
   "execution_count": 24,
   "metadata": {},
   "outputs": [],
   "source": [
    "runs_paths = glob.glob(ansim.properties.ANSIM_RUNS_FOLDER_PATH+\"*txt\")\n"
   ]
  },
  {
   "cell_type": "code",
   "execution_count": 26,
   "metadata": {
    "scrolled": false
   },
   "outputs": [
    {
     "name": "stdout",
     "output_type": "stream",
     "text": [
      "NOTE: Channel IDs do not matter. What is important here is Signal and Description.\n"
     ]
    },
    {
     "data": {
      "image/png": "[encoded data removed]",
      "text/plain": [
       "<Figure size 504x720 with 10 Axes>"
      ]
     },
     "metadata": {
      "needs_background": "light"
     },
     "output_type": "display_data"
    }
   ],
   "source": [
    "df_run_6, _ = ansim.loader.get_single_run_data(runs_paths[6], plot=True, save=False)"
   ]
  },
  {
   "cell_type": "code",
   "execution_count": 27,
   "metadata": {},
   "outputs": [
    {
     "name": "stdout",
     "output_type": "stream",
     "text": [
      "NOTE: Channel IDs do not matter. What is important here is Signal and Description.\n"
     ]
    },
    {
     "data": {
      "image/png": "[encoded data removed]",
      "text/plain": [
       "<Figure size 504x720 with 10 Axes>"
      ]
     },
     "metadata": {
      "needs_background": "light"
     },
     "output_type": "display_data"
    }
   ],
   "source": [
    "df_run_1, _ = ansim.loader.get_single_run_data(runs_paths[1], plot=True, save=False)"
   ]
  },
  {
   "cell_type": "markdown",
   "metadata": {},
   "source": [
    "# Convert all to csv"
   ]
  },
  {
   "cell_type": "code",
   "execution_count": 45,
   "metadata": {},
   "outputs": [],
   "source": [
    "#ansim.loader.convert_runs_to_csv()"
   ]
  },
  {
   "cell_type": "code",
   "execution_count": 3,
   "metadata": {},
   "outputs": [],
   "source": [
    "# returns a dataframe containing all the metrics of the run\n",
    "# this is just to check that the metrics are consistent across all runs\n",
    "metrics_df = ansim.loader.get_all_runs_metrics()"
   ]
  },
  {
   "cell_type": "code",
   "execution_count": 4,
   "metadata": {},
   "outputs": [
    {
     "data": {
      "text/html": [
       "<div>\n",
       "<style scoped>\n",
       "    .dataframe tbody tr th:only-of-type {\n",
       "        vertical-align: middle;\n",
       "    }\n",
       "\n",
       "    .dataframe tbody tr th {\n",
       "        vertical-align: top;\n",
       "    }\n",
       "\n",
       "    .dataframe thead th {\n",
       "        text-align: right;\n",
       "    }\n",
       "</style>\n",
       "<table border=\"1\" class=\"dataframe\">\n",
       "  <thead>\n",
       "    <tr style=\"text-align: right;\">\n",
       "      <th></th>\n",
       "      <th>ECG - ECG A, X, ECG2-R</th>\n",
       "      <th>NIBP - NIBP100A - Non-invasive Blood Pressure, HLT100C - A 2</th>\n",
       "      <th>Gx</th>\n",
       "      <th>Gy</th>\n",
       "      <th>Gz-Level</th>\n",
       "      <th>CLK_E</th>\n",
       "      <th>SYS</th>\n",
       "      <th>MEA</th>\n",
       "      <th>DIA</th>\n",
       "      <th>HR</th>\n",
       "      <th>name</th>\n",
       "    </tr>\n",
       "  </thead>\n",
       "  <tbody>\n",
       "    <tr>\n",
       "      <th>0</th>\n",
       "      <td>mV</td>\n",
       "      <td>mmHg</td>\n",
       "      <td>Volts</td>\n",
       "      <td>Volts</td>\n",
       "      <td>G</td>\n",
       "      <td>Volts</td>\n",
       "      <td>mmHg</td>\n",
       "      <td>mmHg</td>\n",
       "      <td>mmHg</td>\n",
       "      <td>BPM</td>\n",
       "      <td>NZP2DE_0_001_0AA_SC1CSP2_FIN1E_2018-11-05T09_2...</td>\n",
       "    </tr>\n",
       "    <tr>\n",
       "      <th>1</th>\n",
       "      <td>mV</td>\n",
       "      <td>mmHg</td>\n",
       "      <td>Volts</td>\n",
       "      <td>Volts</td>\n",
       "      <td>G</td>\n",
       "      <td>Volts</td>\n",
       "      <td>mmHg</td>\n",
       "      <td>mmHg</td>\n",
       "      <td>mmHg</td>\n",
       "      <td>BPM</td>\n",
       "      <td>NZP2DE_0_001_0AA_SC1CSP2_FIN1E_2018-11-05T10_3...</td>\n",
       "    </tr>\n",
       "    <tr>\n",
       "      <th>2</th>\n",
       "      <td>mV</td>\n",
       "      <td>mmHg</td>\n",
       "      <td>Volts</td>\n",
       "      <td>Volts</td>\n",
       "      <td>G</td>\n",
       "      <td>Volts</td>\n",
       "      <td>mmHg</td>\n",
       "      <td>mmHg</td>\n",
       "      <td>mmHg</td>\n",
       "      <td>BPM</td>\n",
       "      <td>NZP2DE_0_001_0AA_SC1CSP2_FIN1E_2018-11-05T10_5...</td>\n",
       "    </tr>\n",
       "    <tr>\n",
       "      <th>3</th>\n",
       "      <td>mV</td>\n",
       "      <td>mmHg</td>\n",
       "      <td>Volts</td>\n",
       "      <td>Volts</td>\n",
       "      <td>G</td>\n",
       "      <td>Volts</td>\n",
       "      <td>mmHg</td>\n",
       "      <td>mmHg</td>\n",
       "      <td>mmHg</td>\n",
       "      <td>BPM</td>\n",
       "      <td>NZP2DE_0_001_0AB_SC1CSP1_BIO1E_2018-11-06T09_3...</td>\n",
       "    </tr>\n",
       "    <tr>\n",
       "      <th>4</th>\n",
       "      <td>mV</td>\n",
       "      <td>mmHg</td>\n",
       "      <td>Volts</td>\n",
       "      <td>Volts</td>\n",
       "      <td>G</td>\n",
       "      <td>Volts</td>\n",
       "      <td>mmHg</td>\n",
       "      <td>mmHg</td>\n",
       "      <td>mmHg</td>\n",
       "      <td>BPM</td>\n",
       "      <td>NZP2DE_0_001_0AB_SC1CSP1_BIO1E_2018-11-06T10_0...</td>\n",
       "    </tr>\n",
       "  </tbody>\n",
       "</table>\n",
       "</div>"
      ],
      "text/plain": [
       "  ECG - ECG A, X, ECG2-R  \\\n",
       "0                     mV   \n",
       "1                     mV   \n",
       "2                     mV   \n",
       "3                     mV   \n",
       "4                     mV   \n",
       "\n",
       "  NIBP - NIBP100A - Non-invasive Blood Pressure, HLT100C - A 2     Gx     Gy  \\\n",
       "0                                               mmHg            Volts  Volts   \n",
       "1                                               mmHg            Volts  Volts   \n",
       "2                                               mmHg            Volts  Volts   \n",
       "3                                               mmHg            Volts  Volts   \n",
       "4                                               mmHg            Volts  Volts   \n",
       "\n",
       "  Gz-Level  CLK_E   SYS   MEA   DIA   HR  \\\n",
       "0        G  Volts  mmHg  mmHg  mmHg  BPM   \n",
       "1        G  Volts  mmHg  mmHg  mmHg  BPM   \n",
       "2        G  Volts  mmHg  mmHg  mmHg  BPM   \n",
       "3        G  Volts  mmHg  mmHg  mmHg  BPM   \n",
       "4        G  Volts  mmHg  mmHg  mmHg  BPM   \n",
       "\n",
       "                                                name  \n",
       "0  NZP2DE_0_001_0AA_SC1CSP2_FIN1E_2018-11-05T09_2...  \n",
       "1  NZP2DE_0_001_0AA_SC1CSP2_FIN1E_2018-11-05T10_3...  \n",
       "2  NZP2DE_0_001_0AA_SC1CSP2_FIN1E_2018-11-05T10_5...  \n",
       "3  NZP2DE_0_001_0AB_SC1CSP1_BIO1E_2018-11-06T09_3...  \n",
       "4  NZP2DE_0_001_0AB_SC1CSP1_BIO1E_2018-11-06T10_0...  "
      ]
     },
     "execution_count": 4,
     "metadata": {},
     "output_type": "execute_result"
    }
   ],
   "source": [
    "metrics_df.head()"
   ]
  },
  {
   "cell_type": "code",
   "execution_count": null,
   "metadata": {},
   "outputs": [],
   "source": []
  }
 ],
 "metadata": {
  "kernelspec": {
   "display_name": "Python 3",
   "language": "python",
   "name": "python3"
  },
  "language_info": {
   "codemirror_mode": {
    "name": "ipython",
    "version": 3
   },
   "file_extension": ".py",
   "mimetype": "text/x-python",
   "name": "python",
   "nbconvert_exporter": "python",
   "pygments_lexer": "ipython3",
   "version": "3.7.3"
  }
 },
 "nbformat": 4,
 "nbformat_minor": 4
}
