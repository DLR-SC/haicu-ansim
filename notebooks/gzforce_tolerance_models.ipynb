{
  "nbformat": 4,
  "nbformat_minor": 0,
  "metadata": {
    "accelerator": "GPU",
    "colab": {
      "name": "gzforce_tolerance_models.ipynb",
      "provenance": [],
      "collapsed_sections": [],
      "machine_shape": "hm"
    },
    "kernelspec": {
      "display_name": "Python 3",
      "language": "python",
      "name": "python3"
    },
    "language_info": {
      "codemirror_mode": {
        "name": "ipython",
        "version": 3
      },
      "file_extension": ".py",
      "mimetype": "text/x-python",
      "name": "python",
      "nbconvert_exporter": "python",
      "pygments_lexer": "ipython3",
      "version": "3.7.3"
    }
  },
  "cells": [
    {
      "cell_type": "code",
      "metadata": {
        "id": "JT4PmYAap-5N"
      },
      "source": [
        "import sys"
      ],
      "execution_count": null,
      "outputs": []
    },
    {
      "cell_type": "code",
      "metadata": {
        "id": "UOAhLUXGpMYG"
      },
      "source": [
        "import pandas as pd\n",
        "import numpy as np\n",
        "import glob\n",
        "import matplotlib.pyplot as plt\n",
        "\n",
        "from pathlib import Path\n",
        "import pathlib\n",
        "import shutil\n",
        "\n",
        "from matplotlib import pyplot as plt\n",
        "from IPython.display import clear_output\n",
        "import numpy as np\n",
        "import tensorflow as tf\n",
        "import re\n",
        "\n",
        "import os\n",
        "from sklearn.model_selection import train_test_split\n",
        "import matplotlib.image  as mpimg\n",
        "import matplotlib.pyplot as plt"
      ],
      "execution_count": null,
      "outputs": []
    },
    {
      "cell_type": "code",
      "metadata": {
        "id": "-MZEBvGWS-0p"
      },
      "source": [
        "import sys\n",
        "import os\n",
        "import importlib\n",
        "sys.path.insert(0, os.path.abspath('../'))\n",
        "\n",
        "import ansim.loader\n",
        "\n",
        "import ansim.preprocessor\n",
        "import ansim.window_dataset\n",
        "import ansim.dnn\n",
        "\n",
        "importlib.reload(ansim.loader)\n",
        "\n",
        "importlib.reload(ansim.preprocessor)\n",
        "importlib.reload(ansim.window_dataset)\n",
        "importlib.reload(ansim.dnn)\n",
        "\n"
      ],
      "execution_count": null,
      "outputs": []
    },
    {
      "cell_type": "markdown",
      "metadata": {
        "id": "OsYw_jUhS-0q"
      },
      "source": [
        "## Set Experiment dataset settings and generate training and test sets"
      ]
    },
    {
      "cell_type": "code",
      "metadata": {
        "id": "_hAbBetCS-0q"
      },
      "source": [
        "data_preprocessor = ansim.preprocessor.Preprocessor()\n",
        "\n",
        "\n",
        "# the columns for X and y\n",
        "data_preprocessor.x_columns= [ 'min', 'electrocardiogram_signal', 'noininvasible_blood_pressure',\n",
        "                              'G-force_z_axis', 'blood_pressure_systolic_value']\n",
        "data_preprocessor.y_columns= [ 'max_gz' ] #'tolerance'\n",
        "\n",
        "data_preprocessor.omit_baseline = True # a run that has a max gforce <= 0.75 is dismissed\n",
        "data_preprocessor.train_split= 0.7\n",
        "data_preprocessor.split_by= ansim.preprocessor.Preprocessor.SPLIT_BY_SUBJECT # this can be SPLIT_BY_SUBJECT or SPLIT_BY_RUN\n",
        "\n",
        "# set windowed dataset - A.b\n",
        "windowed = ansim.window_dataset.WindowDataset()\n",
        "windowed.window_size = 3000\n",
        "windowed.shift = 1000\n",
        "windowed.batch_size = 512\n",
        "windowed.shuffle_buffer = 1000\n",
        "\n",
        "data_preprocessor.windowDataset= windowed\n"
      ],
      "execution_count": null,
      "outputs": []
    },
    {
      "cell_type": "markdown",
      "metadata": {
        "id": "YlSIsOO-7lXq"
      },
      "source": [
        "## Run dummy baseline (average)"
      ]
    },
    {
      "cell_type": "code",
      "metadata": {
        "id": "y1jqyZJw2Yad"
      },
      "source": [
        "# get baseline data\r\n",
        "# here the data is preprared:\r\n",
        "## We calculate the max g force and the tolerance\r\n",
        "## the runs with gforce < 0.65 will be dismissedA\r\n",
        "## the baseline runs (max g force between 0.65 and 0.75) will be kept if \"omit_baseline\" is set to False\r\n",
        "## the runs filename, max gz, tolerance and validity are saved here: data/experiment_runid_maxgz_tolerance.csv\r\n",
        "\r\n",
        "# NOTE: first run can take some time because we are calculating tolerance and max gz\r\n",
        "# after that it takes some time to concatenated all the data together - we can not save and preprocess this due to the variabilit of the experiements and the big size of the concat data\r\n",
        "X_training, y_training, X_test, y_test = data_preprocessor.prepare_baseline_data()"
      ],
      "execution_count": null,
      "outputs": []
    },
    {
      "cell_type": "code",
      "metadata": {
        "colab": {
          "base_uri": "https://localhost:8080/"
        },
        "id": "Y7io5U2E8xe-",
        "outputId": "c17800a0-7303-4107-94e1-76bd1fabb9f7"
      },
      "source": [
        "baseline = ansim.dnn.Baseline(X_training, y_training, X_test, y_test)\r\n",
        "print(baseline.dummy_train_test(strategy = \"mean\"))\r\n",
        "\r\n"
      ],
      "execution_count": null,
      "outputs": [
        {
          "output_type": "stream",
          "text": [
            "{'mse': 0.1962, 'mae': 0.422}\n"
          ],
          "name": "stdout"
        }
      ]
    },
    {
      "cell_type": "code",
      "metadata": {
        "id": "NXjdFaqNjoiu"
      },
      "source": [
        "X_training, y_training, X_test, y_test = None,None,None,None"
      ],
      "execution_count": null,
      "outputs": []
    },
    {
      "cell_type": "markdown",
      "metadata": {
        "id": "MD1a_TmK8b-i"
      },
      "source": [
        "## Get the windowed training and test sets. these will be used in the DNN experiments"
      ]
    },
    {
      "cell_type": "code",
      "metadata": {
        "id": "LoAS1jxApMYJ"
      },
      "source": [
        "# get baseline data\n",
        "# here the data is preprared:\n",
        "## We calculate the max g force and the tolerance\n",
        "## the runs with gforce < 0.65 will be dismissed \n",
        "## the baseline runs (max g force between 0.65 and 0.75) will be kept if \"omit_baseline\" is set to False\n",
        "## all invalid runs reasons is saved in a csv file\n",
        "# Then the data is windowed and ready to be used in the experiments\n",
        "dataset_train, dataset_test = data_preprocessor.get_windowed_data()"
      ],
      "execution_count": null,
      "outputs": []
    },
    {
      "cell_type": "code",
      "metadata": {
        "colab": {
          "base_uri": "https://localhost:8080/"
        },
        "id": "OEY16opGnO_d",
        "outputId": "3447b967-214d-4040-cc2f-1531fabb0498"
      },
      "source": [
        "#sanity check\r\n",
        "data_preprocessor.windowDataset.get_window_data_batch_shape()"
      ],
      "execution_count": null,
      "outputs": [
        {
          "output_type": "stream",
          "text": [
            "512   per batch ( 512 )\n",
            "512   per batch ( 512 )\n",
            "3000  x length of 1 array in batch ( 3000 )\n",
            "1  y length of 1 array in batch (1)\n",
            "5  x values per instance  (should be equal to the # of x columns)\n",
            "1  y values per instance  (should be equal to the # of y columns)\n"
          ],
          "name": "stdout"
        }
      ]
    },
    {
      "cell_type": "markdown",
      "metadata": {
        "id": "2Dtki8USS-0r"
      },
      "source": [
        "## Sequential 3 layers model"
      ]
    },
    {
      "cell_type": "markdown",
      "metadata": {
        "id": "IQrBBHS7S-0r"
      },
      "source": [
        "### Set Experiment sequential settings"
      ]
    },
    {
      "cell_type": "code",
      "metadata": {
        "id": "r5zeMTcr2YMU"
      },
      "source": [
        "sequential_model = ansim.dnn.SequentialModel(dataset_train, dataset_test,\n",
        "                                            input_shape_instances= data_preprocessor.windowDataset.window_size,\n",
        "                                            input_shape_features = len(data_preprocessor.x_columns))\n",
        "\n",
        "sequential_model.lr=1e-3\n",
        "sequential_model.epochs=100\n",
        "sequential_model.loss = \"mse\"\n",
        "sequential_model.metrics = [\"mse\", \"mae\"]"
      ],
      "execution_count": null,
      "outputs": []
    },
    {
      "cell_type": "markdown",
      "metadata": {
        "id": "qmoVyygrS-0s"
      },
      "source": [
        "### Train then evaluate"
      ]
    },
    {
      "cell_type": "code",
      "metadata": {
        "id": "KfV8eermlSil"
      },
      "source": [
        "SEQUENTIAL_BEST_MODEL = data_preprocessor.data_root_path+'models/best_maxgz_sequential_a'\r\n"
      ],
      "execution_count": null,
      "outputs": []
    },
    {
      "cell_type": "code",
      "metadata": {
        "id": "4L6-4XvJRS6x"
      },
      "source": [
        "sequential_model.train(stop_early = True, best_model_name = SEQUENTIAL_BEST_MODEL, plot_loss= True, verbose=1, patience=20)\n"
      ],
      "execution_count": null,
      "outputs": []
    },
    {
      "cell_type": "code",
      "metadata": {
        "colab": {
          "base_uri": "https://localhost:8080/"
        },
        "id": "cKumSHRLS-0s",
        "outputId": "2bd72198-4ac4-4777-c8fa-444091def127"
      },
      "source": [
        "sequential_model.evaluate() # evaluate the overall model\r\n"
      ],
      "execution_count": null,
      "outputs": [
        {
          "output_type": "stream",
          "text": [
            "56/56 [==============================] - 55s 936ms/step - loss: 0.1955 - mse: 0.1955 - mae: 0.4200\n"
          ],
          "name": "stdout"
        }
      ]
    },
    {
      "cell_type": "code",
      "metadata": {
        "colab": {
          "base_uri": "https://localhost:8080/"
        },
        "id": "CQNmFU2SB5ju",
        "outputId": "4b32fc47-9a31-4112-85d3-06ae8e8f8cfd"
      },
      "source": [
        "sequential_model.model.summary()"
      ],
      "execution_count": null,
      "outputs": [
        {
          "output_type": "stream",
          "text": [
            "Model: \"sequential\"\n",
            "_________________________________________________________________\n",
            "Layer (type)                 Output Shape              Param #   \n",
            "=================================================================\n",
            "flatten (Flatten)            (None, 15000)             0         \n",
            "_________________________________________________________________\n",
            "dense (Dense)                (None, 100)               1500100   \n",
            "_________________________________________________________________\n",
            "dense_1 (Dense)              (None, 10)                1010      \n",
            "_________________________________________________________________\n",
            "dense_2 (Dense)              (None, 2)                 22        \n",
            "=================================================================\n",
            "Total params: 1,501,132\n",
            "Trainable params: 1,501,132\n",
            "Non-trainable params: 0\n",
            "_________________________________________________________________\n"
          ],
          "name": "stdout"
        }
      ]
    },
    {
      "cell_type": "code",
      "metadata": {
        "id": "bdFT3pcEWy0A"
      },
      "source": [
        "\r\n",
        "sequential_model.model.save(data_preprocessor.data_root_path+'models/overall_maxgz_sequential_a')"
      ],
      "execution_count": null,
      "outputs": []
    },
    {
      "cell_type": "code",
      "metadata": {
        "colab": {
          "base_uri": "https://localhost:8080/"
        },
        "id": "te2tJnAblFUA",
        "outputId": "20986f39-606f-475d-a662-abdac6118adf"
      },
      "source": [
        "sequential_model.evaluate_saved_model(SEQUENTIAL_BEST_MODEL+'.h5', verbose=1)\r\n",
        "#saved_model.evaluate(dataset_test, verbose=1) #[0.595668613910675, 0.5941470861434937, 0.6601144075393677]"
      ],
      "execution_count": null,
      "outputs": [
        {
          "output_type": "stream",
          "text": [
            "132/132 [==============================] - 127s 936ms/step - loss: 0.2257 - mse: 0.2257 - mae: 0.4502\n",
            "56/56 [==============================] - 54s 925ms/step - loss: 0.1955 - mse: 0.1955 - mae: 0.4200\n",
            "Train: loss, mse mae -->  [0.2257266342639923, 0.2257266342639923, 0.45023342967033386]\n",
            "Test: loss, mse mae -->  [0.19550250470638275, 0.19550250470638275, 0.42000943422317505]\n"
          ],
          "name": "stdout"
        }
      ]
    },
    {
      "cell_type": "code",
      "metadata": {
        "id": "lwYYeZLytn2s"
      },
      "source": [
        "sequential_model.evaluate_saved_model(data_preprocessor.data_root_path+'models/overall_maxgz_sequential_a', verbose=1)\r\n"
      ],
      "execution_count": null,
      "outputs": []
    },
    {
      "cell_type": "code",
      "metadata": {
        "id": "87MqfzLttpAU"
      },
      "source": [
        "sequential_model = None"
      ],
      "execution_count": null,
      "outputs": []
    },
    {
      "cell_type": "markdown",
      "metadata": {
        "id": "QuLPdGvMS-0t"
      },
      "source": [
        "## LSTM model"
      ]
    },
    {
      "cell_type": "markdown",
      "metadata": {
        "id": "QBbxmcPZS-0t"
      },
      "source": [
        "### Set Experiment dnn settings for tuning lr"
      ]
    },
    {
      "cell_type": "code",
      "metadata": {
        "id": "MZveW1DJS-0t"
      },
      "source": [
        "lstm_model = None\n",
        "lstm_model = ansim.dnn.Lstm(dataset_train, dataset_test,\n",
        "                            input_shape_instances= data_preprocessor.windowDataset.window_size,\n",
        "                            input_shape_features = len(data_preprocessor.x_columns))\n",
        "\n",
        "# we want to tune first \n",
        "#lstm_model.lr=1e-8\n",
        "lstm_model.epochs=100\n",
        "lstm_model.metrics = [\"mse\", \"mae\"]"
      ],
      "execution_count": null,
      "outputs": []
    },
    {
      "cell_type": "markdown",
      "metadata": {
        "id": "dDAeQV_0S-0t"
      },
      "source": [
        "### Running 100 epochs each with different lr"
      ]
    },
    {
      "cell_type": "code",
      "metadata": {
        "id": "NU0lrH8bS-0t"
      },
      "source": [
        "history_lr = lstm_model.tune_lr()"
      ],
      "execution_count": null,
      "outputs": []
    },
    {
      "cell_type": "code",
      "metadata": {
        "id": "f2g-OiZdS-0u"
      },
      "source": [
        "print(lstm_model.get_best_epoch(history_lr)) # 0.0001\n",
        "\n",
        "\n",
        "#plt.semilogx(history_lr.history[\"lr\"], history_lr.history[\"loss\"])\n",
        "#plt.axis([1e-8, 1e-1, 0, max(history_lr.history[\"loss\"])+1])\n",
        "#plt.xlabel('learning rate')\n",
        "#plt.ylabel('loss (Huber)')\n"
      ],
      "execution_count": null,
      "outputs": []
    },
    {
      "cell_type": "code",
      "metadata": {
        "id": "lnwwf_BZWj8r"
      },
      "source": [
        "# set best lr based on above\n",
        "best_lr =  0.0001\n"
      ],
      "execution_count": null,
      "outputs": []
    },
    {
      "cell_type": "markdown",
      "metadata": {
        "id": "0Blw4nf0S-0u"
      },
      "source": [
        "### Set Experiment lstm with the best lr"
      ]
    },
    {
      "cell_type": "code",
      "metadata": {
        "id": "ds871YpDa6Jp"
      },
      "source": [
        "lstm_model.lr=best_lr\n",
        "lstm_model.epochs=500\n",
        "lstm_model.metrics = [\"mse\", \"mae\"]\n",
        "lstm_model.loss = \"mse\""
      ],
      "execution_count": null,
      "outputs": []
    },
    {
      "cell_type": "markdown",
      "metadata": {
        "id": "Znw7BfL4S-0u"
      },
      "source": [
        "### Running 500 epochs using the best lr"
      ]
    },
    {
      "cell_type": "code",
      "metadata": {
        "id": "2NBU9Fu5HqtZ"
      },
      "source": [
        "LSTM_BEST_MODEL = data_preprocessor.data_root_path+'models/'+ 'best_maxgz_lstm_a'\r\n"
      ],
      "execution_count": null,
      "outputs": []
    },
    {
      "cell_type": "code",
      "metadata": {
        "id": "FaCnpTWPna0h"
      },
      "source": [
        "history = lstm_model.train(stop_early = True, best_model_name = LSTM_BEST_MODEL, plot_loss= True, verbose=1, patience=100)"
      ],
      "execution_count": null,
      "outputs": []
    },
    {
      "cell_type": "code",
      "metadata": {
        "colab": {
          "base_uri": "https://localhost:8080/"
        },
        "id": "_fGpYQOxn0oq",
        "outputId": "917bcc42-6ab9-4387-c734-3639f24609a9"
      },
      "source": [
        "\n",
        "lstm_model.evaluate() # evaluate the overall model\n",
        "\n"
      ],
      "execution_count": null,
      "outputs": [
        {
          "output_type": "stream",
          "text": [
            "56/56 [==============================] - 62s 1s/step - loss: 0.1806 - mse: 0.1806 - mae: 0.3621\n"
          ],
          "name": "stdout"
        }
      ]
    },
    {
      "cell_type": "code",
      "metadata": {
        "colab": {
          "base_uri": "https://localhost:8080/"
        },
        "id": "PngnMruYaPMf",
        "outputId": "744f20fb-dd9e-4631-a3bb-56b156b18535"
      },
      "source": [
        "lstm_model.model.summary()\r\n"
      ],
      "execution_count": null,
      "outputs": [
        {
          "output_type": "stream",
          "text": [
            "Model: \"sequential\"\n",
            "_________________________________________________________________\n",
            "Layer (type)                 Output Shape              Param #   \n",
            "=================================================================\n",
            "bidirectional (Bidirectional (None, 3000, 64)          9728      \n",
            "_________________________________________________________________\n",
            "bidirectional_1 (Bidirection (None, 64)                24832     \n",
            "_________________________________________________________________\n",
            "dense (Dense)                (None, 2)                 130       \n",
            "=================================================================\n",
            "Total params: 34,690\n",
            "Trainable params: 34,690\n",
            "Non-trainable params: 0\n",
            "_________________________________________________________________\n"
          ],
          "name": "stdout"
        }
      ]
    },
    {
      "cell_type": "code",
      "metadata": {
        "id": "c6i-GeK01Mbv",
        "colab": {
          "base_uri": "https://localhost:8080/"
        },
        "outputId": "bb8c95bf-c274-48ae-c7d4-c8453d317d5f"
      },
      "source": [
        "lstm_model.evaluate_saved_model(LSTM_BEST_MODEL+'.h5', verbose=1)"
      ],
      "execution_count": null,
      "outputs": [
        {
          "output_type": "stream",
          "text": [
            "138/138 [==============================] - 149s 1s/step - loss: 0.1678 - mse: 0.1678 - mae: 0.3502\n",
            "50/50 [==============================] - 57s 1s/step - loss: 0.3385 - mse: 0.3385 - mae: 0.5270\n",
            "Train: loss, mse mae -->  [0.16775135695934296, 0.16775135695934296, 0.3502233326435089]\n",
            "Test: loss, mse mae -->  [0.33850833773612976, 0.33850833773612976, 0.5270208120346069]\n"
          ],
          "name": "stdout"
        }
      ]
    },
    {
      "cell_type": "code",
      "metadata": {
        "id": "otk5YsD6nFPc"
      },
      "source": [
        ""
      ],
      "execution_count": null,
      "outputs": []
    }
  ]
}